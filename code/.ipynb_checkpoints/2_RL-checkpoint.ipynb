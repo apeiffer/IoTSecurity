{
 "cells": [
  {
   "cell_type": "markdown",
   "metadata": {},
   "source": [
    "# Network Analysis Using Reinforcement Learning\n",
    "## Spring 2022: Shaoyu Pei, Avery Peiffer\n",
    "\n",
    "## Advisor: Dr. Mai Abdelhakim"
   ]
  },
  {
   "cell_type": "markdown",
   "metadata": {},
   "source": [
    "## Notebook 2: Applying Reinforcement Learning to the Problem\n",
    "If you have not already read through and tested out the network setup, please take some time to do so. It will provide you with the necessary background to understand the problem.\n",
    "\n",
    "The purpose of this notebook is to implement a reinforcement learning algorithm using our network environment code. This allows us to train reinforcement learning algorithms. We modified [Laura D'Arcy's GraphRLnx repository](https://github.com/lauradarcy/graphRLnx) to create this class.\n",
    "\n",
    "Please refer to the `tutorials/` folder for an overview of reinforcement learning and Q-learning. Essentially, we wish for our algorithm to learn the most trustworthy path(s) from the source to the destination. A trustworthy path is one that is unlikely to be corrupted from past examples. We start by sending packets through the network randomly; we then use a function to see if the transmission was 'corrupted' in the way that we have previously defined it. We also take into consideration the number of hops the path takes. We adjust our incentive structure accordingly and, over time, the algorithm will learn what paths are optimal.\n",
    "\n",
    "Our model makes the assumption that there is one reinforcement learning controller that is overseeing the entire process. Additionally, we wish to acknowledge the action and state spaces that make up our reinforcement learning space. The state space represents the possible list of states that the algorithm can take in a given time step. In this case, it is defined as the possible nodes that can be visited along a path from the source to destination node. Likewise, the action space represents the possible actions that can be taken from the given state. For this model, the action space is defined as the nodes that are neighboring the current node and that have not already been visited along the current path (this helps avoid cycles and infinite loops)."
   ]
  },
  {
   "cell_type": "markdown",
   "metadata": {},
   "source": [
    "**Note:** If you get any errors due to packages not being installed, please add them to the cell below. We might have not encountered these errors due to already having those packages installed on our computers for other courses/projects/etc."
   ]
  },
  {
   "cell_type": "code",
   "execution_count": 1,
   "metadata": {},
   "outputs": [
    {
     "name": "stdout",
     "output_type": "stream",
     "text": [
      "Requirement already satisfied: gym in c:\\users\\avery peiffer\\anaconda3_new\\lib\\site-packages (0.21.0)\n",
      "Requirement already satisfied: cloudpickle>=1.2.0 in c:\\users\\avery peiffer\\anaconda3_new\\lib\\site-packages (from gym) (1.5.0)\n",
      "Requirement already satisfied: numpy>=1.18.0 in c:\\users\\avery peiffer\\anaconda3_new\\lib\\site-packages (from gym) (1.18.5)\n"
     ]
    }
   ],
   "source": [
    "!pip3 install gym"
   ]
  },
  {
   "cell_type": "code",
   "execution_count": 2,
   "metadata": {},
   "outputs": [],
   "source": [
    "import gym\n",
    "import math\n",
    "import random\n",
    "import scipy.signal\n",
    "import numpy as np\n",
    "import pandas as pd\n",
    "import networkx as nx\n",
    "import matplotlib.pyplot as plt\n",
    "\n",
    "from gym import spaces"
   ]
  },
  {
   "cell_type": "markdown",
   "metadata": {},
   "source": [
    "Here we incorporate everything from the first notebook into a `graphRL` class. This class uses the `gym` environment template, which allows for training of RL algorithms."
   ]
  },
  {
   "cell_type": "code",
   "execution_count": 3,
   "metadata": {},
   "outputs": [],
   "source": [
    "class graphRL(gym.Env):\n",
    "    \n",
    "    # Add random edges to the graph until it is a complete graph (more detail in previous notebook)\n",
    "    def random_edge(self):\n",
    "        edges = list(self.graph.edges)\n",
    "        nonedges = list(nx.non_edges(self.graph))\n",
    "        if len(edges) > 0:\n",
    "            chosen_edge = random.choice(edges)\n",
    "            chosen_nonedge = random.choice([x for x in nonedges if chosen_edge[0] == x[0] or chosen_edge[0] == x[1]])\n",
    "        else:\n",
    "            chosen_nonedge = random.choice(nonedges)\n",
    "        self.graph.add_edge(chosen_nonedge[0], chosen_nonedge[1])\n",
    "        \n",
    "    # Determine if a path is corrupted based on the attack probabilities of the nodes that make it up\n",
    "    # (more detail in previous notebook)\n",
    "    def is_corrupted(self, path, verbose=False): \n",
    "        for node in path:\n",
    "            attack_prob = self.devices[node].attack_prob\n",
    "            attacked = random.uniform(0,1) < attack_prob\n",
    "            if attacked:\n",
    "                if verbose:\n",
    "                    print('Node = ', node)\n",
    "                return True\n",
    "        return False\n",
    "\n",
    "    def __init__(self, fname=None, network_size=10, edge_prob=1, percent_mal=0, attack_probs=[0, 0]):\n",
    "        self.devices = []\n",
    "        self.mal_nodes = []\n",
    "        \n",
    "        class device:\n",
    "            pass\n",
    "\n",
    "        # Read in a custom environment from a file and create the graph that way\n",
    "        if fname != None:\n",
    "            with open(fname) as f:\n",
    "                lines = [line.rstrip() for line in f]\n",
    "\n",
    "                self.network_size = int(lines[0])\n",
    "                self.src = 0\n",
    "                self.dst = self.network_size - 1\n",
    "                \n",
    "                edges = [eval(x) for x in lines[1:-1]]\n",
    "                self.graph = nx.Graph()\n",
    "                self.graph.add_nodes_from(list(range(self.network_size)))\n",
    "                self.graph.add_edges_from(edges)\n",
    "                \n",
    "                attack_probs = [float(x) for x in lines[-1].split(',')]\n",
    "                \n",
    "                nodes = list(range(0, self.network_size))\n",
    "                \n",
    "                for node, prob in zip(nodes, attack_probs):\n",
    "                    a = device()\n",
    "                    a.node = node\n",
    "                    a.attack_prob = prob\n",
    "                    \n",
    "                    if prob > 0:\n",
    "                        self.mal_nodes.append(node)\n",
    "                        a.mal = True\n",
    "                    \n",
    "                    else:\n",
    "                        a.mal = False\n",
    "                        \n",
    "                    self.devices.append(a)\n",
    "        \n",
    "        # Create a random graph based on a set of parameters\n",
    "        else:\n",
    "            self.network_size = network_size\n",
    "            self.src = 0\n",
    "            self.dst = network_size - 1\n",
    "\n",
    "            self.graph = nx.gnp_random_graph(network_size, edge_prob)\n",
    "            while not nx.is_connected(self.graph):\n",
    "                self.random_edge()\n",
    "\n",
    "            num_mal = network_size * percent_mal\n",
    "\n",
    "            while num_mal > 0:\n",
    "                rand = np.random.randint(0, network_size)           \n",
    "                if rand != src and rand != dst and rand not in self.mal_nodes:\n",
    "                    self.mal_nodes.append(rand)\n",
    "                    num_mal -= 1\n",
    "\n",
    "            nodes = list(range(0, network_size))\n",
    "\n",
    "            for node in nodes:\n",
    "                a = device()\n",
    "                a.node = node\n",
    "\n",
    "                if node in self.mal_nodes:\n",
    "                    a.mal = True\n",
    "                    a.attack_prob = np.random.uniform(attack_probs[0], attack_probs[1])\n",
    "                else:\n",
    "                    a.mal = False\n",
    "                    a.attack_prob = 0\n",
    "\n",
    "                self.devices.append(a)\n",
    "            \n",
    "        self.num_actions = self.network_size\n",
    "        self.num_states  = self.network_size\n",
    "            \n",
    "        self.action_space = spaces.Discrete(self.num_actions)                   \n",
    "        self.observation_space = spaces.Discrete(self.num_states)\n",
    "\n",
    "    # Draw the graph\n",
    "    def render(self):\n",
    "        nx.draw(self.graph, with_labels=True)\n",
    "        plt.show()"
   ]
  },
  {
   "cell_type": "markdown",
   "metadata": {},
   "source": [
    "We create an instance of the graphRL class and render it. As a reminder of our convention, the source node is always Node 0 and the destination node is the highest numbered node. Additionally, we print out all of the nodes and whether they are malicious. This will help us confirm that our algorithm is learning to avoid the malicious nodes. By visual inspection, we can also confirm that our algorithm is learning the shortest paths from source to destination."
   ]
  },
  {
   "cell_type": "code",
   "execution_count": 4,
   "metadata": {},
   "outputs": [
    {
     "name": "stdout",
     "output_type": "stream",
     "text": [
      "Node 0 is NOT malicious.\n",
      "Node 1 is NOT malicious.\n",
      "Node 2 is NOT malicious.\n",
      "Node 3 IS malicious. Attack probability is 0.64.\n",
      "Node 4 is NOT malicious.\n",
      "Node 5 IS malicious. Attack probability is 0.85.\n",
      "Node 6 is NOT malicious.\n",
      "Node 7 is NOT malicious.\n",
      "Node 8 is NOT malicious.\n",
      "Node 9 is NOT malicious.\n"
     ]
    },
    {
     "data": {
      "image/png": "[encoded data removed]",
      "text/plain": [
       "<Figure size 432x288 with 1 Axes>"
      ]
     },
     "metadata": {},
     "output_type": "display_data"
    }
   ],
   "source": [
    "# env = graphRL(network_size=10, edge_prob=0.1, percent_mal=0.4, attack_probs=[0.3, 0.8])\n",
    "env = graphRL('./env/env1.txt')\n",
    "\n",
    "for a in env.devices:\n",
    "    if a.mal:\n",
    "        print(f'Node {a.node} IS malicious. Attack probability is {a.attack_prob:.2f}.')\n",
    "    else:\n",
    "        print(f'Node {a.node} is NOT malicious.')\n",
    "        \n",
    "env.render()"
   ]
  },
  {
   "cell_type": "markdown",
   "metadata": {},
   "source": [
    "Some hyperparameters we introduce when we move to a RL environment:\n",
    "* `corrupted_path_penalty` refers to the penalty our algorithm incurs when it takes a path that is corrupted.\n",
    "* `dead_end_penalty` refers to the penalty our algorithm incurs when it encounters a dead-end node. We don't need to consider this node for future pathfinding, so we put an enormous penalty on it.\n",
    "* `training_iterations` refers to the number of times we will try to find a path from the source to the destination. Too few iterations will lead to underfitting; too many will lead to overfitting.\n",
    "\n",
    "The other hyperparameters are used for the Q-learning algorithm (definitions used from the [RL tutorial source](https://www.learndatasci.com/tutorials/reinforcement-q-learning-scratch-python-openai-gym/)):\n",
    "* `alpha` is the learning rate (0 < $\\alpha$ <= 1). This captures the extent to which the Q-values are updated from one training iteration.\n",
    "* `gamma` is the discount factor (0 < $\\gamma$ <= 1). $\\gamma$ determines how much importance we want to give to future rewards. A lower $\\gamma$ makes our algorithm consider immediate rewards more, while a higher $\\gamma$ captures a long-term effective reward.\n",
    "* `epsilon` is the degree (0 < $\\epsilon$ <= 1) to which we want to explore the action space (i.e. pick a random value) or exploit our learned Q-values. A lower $\\epsilon$ will result in more penalties during training because we are more often picking new, unexplored paths. A higher $\\epsilon$ will result in fewer penalties during training but may lead to overfitting."
   ]
  },
  {
   "cell_type": "code",
   "execution_count": 5,
   "metadata": {},
   "outputs": [],
   "source": [
    "q_table = np.zeros([env.num_states, env.num_actions])\n",
    "\n",
    "training_iterations = 10000\n",
    "corrupted_path_penalty = 10\n",
    "clean_path_reward = corrupted_path_penalty / 10 # The clean path reward should probably not be equal to the corrupted path penalty\n",
    "dead_end_penalty = 1000 # Continue working on this \n",
    "# Node: don't want this to be np.inf because it will fail in some edge cases (since invalid neighbors are np.inf)\n",
    "\n",
    "alpha = 0.1\n",
    "gamma = 0.6\n",
    "epsilon = 0.1"
   ]
  },
  {
   "cell_type": "markdown",
   "metadata": {},
   "source": [
    "Some notes about this cell, because it is the most complicated cell in the notebook:\n",
    "* We are trying to find paths from the source to the destination, and we go one node at a time. Think of the current state as the node we are currently at. The possible actions we can choose from are the other nodes that we can visit from this node (so, its neighbors). However, this is at odds with how we define the Q-table, where all actions are technically \"valid\" from each state. For this reason, we keep a `valid_neighbors` array to reference when we select an action. If a node is a dead end, it will have no valid neighbors and we can stop the training iteration. \n",
    "* When we are finding paths from the source to the destination, we don't want to visit the same node twice (this is called a cycle and can easily lead to infinite loops). We use the `VISITED` flag and `visit_arr` to mark whether we've visited a node in the current pathfinding iteration. This also helps us when we look at the `valid_neighbors` of a node. \n",
    "* As stated above, `epsilon` represents the degree to which we randomly explore the action space. We want to decrease the value of `epsilon` as we train our algorithm to limit the amount that we explore the action space, because it becomes redundant. This is the purpose of the `epsilon_decay` function. We have defined it such that it linearly decreases from the initial value of `epsilon` to 0 over the training iterations, but alternative definitions could be more effective."
   ]
  },
  {
   "cell_type": "code",
   "execution_count": 6,
   "metadata": {},
   "outputs": [],
   "source": [
    "VISITED = -1\n",
    "\n",
    "# For plotting metrics\n",
    "all_epochs = []\n",
    "all_penalties = []\n",
    "\n",
    "# Linear function to represent how epsilon should decrease as we go through training iterations\n",
    "def epsilon_decay(x):\n",
    "    return epsilon - epsilon*x/training_iterations\n",
    "\n",
    "# Number of training iterations\n",
    "for i in range(1, training_iterations+1):\n",
    "    total_penalty = 0\n",
    "    path = []\n",
    "    eps = epsilon_decay(i) * epsilon\n",
    "    state = env.src\n",
    "    \n",
    "    done = False\n",
    "    \n",
    "    visit_arr = np.zeros(env.network_size)\n",
    "    \n",
    "    while not done:\n",
    "        path.append(state)\n",
    "        dead_end = True\n",
    "        visit_arr[state] = VISITED # Shows that we have visited a node\n",
    "        \n",
    "        valid_neighbors = list(env.graph.neighbors(state)) # These are the valid possible actions\n",
    "        \n",
    "        # Check to see if the node is a dead end (if there are any valid neighbors, they have been visited already)\n",
    "        for neighbor in valid_neighbors:\n",
    "            if visit_arr[neighbor] != VISITED:\n",
    "                dead_end = False\n",
    "        \n",
    "        # This node is a dead end, so we put a giant penalty on it so we don't go to it again in future iterations\n",
    "        if dead_end:\n",
    "            q_table[:, state] = -dead_end_penalty \n",
    "            done = True\n",
    "\n",
    "        # The node is not a dead end, so we continue trying to find paths to the destination\n",
    "        else:  \n",
    "            # Explore the action space by picking a random action\n",
    "            if random.uniform(0, 1) < eps:\n",
    "                action = env.action_space.sample()\n",
    "                \n",
    "                # Make sure the action is valid by referencing the valid neighbors and visited arrays\n",
    "                while action not in valid_neighbors or visit_arr[action] == VISITED:\n",
    "                    action = env.action_space.sample()\n",
    "            \n",
    "            # Exploit learned values by selecting the best action from the current state based on our Q-table\n",
    "            else:\n",
    "                slc = q_table[state]\n",
    "                action = np.argmax(slc)               \n",
    "\n",
    "                # Make sure the action is valid by referencing the valid neighbors and visited arrays\n",
    "                while action not in valid_neighbors or visit_arr[action] == VISITED:\n",
    "                    slc[action] = -np.Inf\n",
    "                    action = np.argmax(slc)                    \n",
    "    \n",
    "            # Now, we've finally selected an action. \n",
    "            # We can take the step and update the Q-table according to the algorithm.            \n",
    "            next_state = action\n",
    "            state = next_state\n",
    "\n",
    "            if state == env.dst:\n",
    "                path.append(state)\n",
    "                done = True\n",
    "                \n",
    "            total_penalty += 1\n",
    "    \n",
    "    # Print out the path we took.\n",
    "    # If we got to the destination, determine if that path was corrupted. Update the reward accordingly\n",
    "    if dead_end == True:\n",
    "        print(f'Path taken = {path}. Encountered a dead end.')\n",
    "    else:\n",
    "        print(f'Path taken = {path}.')\n",
    "        \n",
    "        if env.is_corrupted(path):\n",
    "            # The path is corrupted, but our algorithm doesn't know what node is the cause. \n",
    "            # So, we penalize all of the nodes. Over time, the nodes that are actually corrupted will be\n",
    "            # penalized more often than the nodes that aren't.\n",
    "            total_penalty += corrupted_path_penalty\n",
    "            print(f'This path was corrupted.')\n",
    "    \n",
    "        else:\n",
    "            total_penalty -= clean_path_reward\n",
    "        \n",
    "        # The path[1:len(path)-2] is a way of not penalizing the source or destination nodes, since we\n",
    "        # assume that those two can't be corrupted.\n",
    "        for node in path[1:len(path)-2]:\n",
    "            q_table[:, node] -= total_penalty / len(path)\n",
    "            \n",
    "    all_epochs.append(i)\n",
    "    all_penalties.append(total_penalty)"
   ]
  },
  {
   "cell_type": "markdown",
   "metadata": {},
   "source": [
    "Now that the training is finished, we can print out the Q table and try to visually confirm that our algorithm has learned the optimal paths. The rows represent the current state, and the columns represent the possible actions from that state. We should see higher values for the actions that lead to clean, shorter paths. Likewise, we should see lower values for actions that result in a corrupted path. Additionally, we should see `-np.inf` for actions that aren't possible from the current state (not neighboring), and `-dead_end_penalty` for actions that result in a dead end."
   ]
  },
  {
   "cell_type": "code",
   "execution_count": 7,
   "metadata": {},
   "outputs": [
    {
     "name": "stdout",
     "output_type": "stream",
     "text": [
      "     0    1       2       3       4       5       6       7       8    9\n",
      "0 -inf -inf -1005.0 -1021.5 -1000.0 -1020.0 -1000.0 -1000.0 -1000.0 -inf\n",
      "1 -inf -inf    -inf -1021.5 -1000.0 -1020.0 -1000.0 -1000.0 -1000.0  0.0\n",
      "2 -inf  0.0 -1005.0 -1021.5 -1000.0 -1020.0 -1000.0 -1000.0 -1000.0  0.0\n",
      "3 -inf  0.0 -1005.0 -1021.5 -1000.0 -1020.0 -1000.0 -1000.0 -1000.0  0.0\n",
      "4  0.0  0.0 -1005.0 -1021.5 -1000.0 -1020.0 -1000.0 -1000.0 -1000.0  0.0\n",
      "5 -inf  0.0 -1005.0 -1021.5 -1000.0 -1020.0 -1000.0 -1000.0 -1000.0  0.0\n",
      "6  0.0  0.0 -1005.0 -1021.5 -1000.0 -1020.0 -1000.0 -1000.0 -1000.0  0.0\n",
      "7  0.0  0.0 -1005.0 -1021.5 -1000.0 -1020.0 -1000.0 -1000.0 -1000.0  0.0\n",
      "8  0.0  0.0 -1005.0 -1021.5 -1000.0 -1020.0 -1000.0 -1000.0 -1000.0  0.0\n",
      "9  0.0  0.0 -1005.0 -1021.5 -1000.0 -1020.0 -1000.0 -1000.0 -1000.0  0.0\n"
     ]
    }
   ],
   "source": [
    "print(pd.DataFrame(q_table))"
   ]
  },
  {
   "cell_type": "markdown",
   "metadata": {},
   "source": [
    "We can also do a more formal verification of the results. This code uses some of our training code to rerun the algorithm and find what it has determined to be the most efficient, safest paths through the graph."
   ]
  },
  {
   "cell_type": "code",
   "execution_count": 8,
   "metadata": {},
   "outputs": [
    {
     "name": "stdout",
     "output_type": "stream",
     "text": [
      "Results after 100 episodes:\n",
      "Average hops per episode: 2.0\n",
      "Average penalties per episode: 1.0\n"
     ]
    }
   ],
   "source": [
    "total_hops, total_penalties = 0, 0\n",
    "episodes = 100\n",
    "\n",
    "for _ in range(episodes):\n",
    "    path = []\n",
    "    hops, penalties = 0, 0\n",
    "    state = env.src\n",
    "    visit_arr = np.zeros(env.network_size)\n",
    "        \n",
    "    done = False\n",
    "    \n",
    "    while not done:\n",
    "        hops += 1\n",
    "        path.append(state)\n",
    "        dead_end = True\n",
    "        visit_arr[state] = VISITED\n",
    "        \n",
    "        valid_neighbors = list(env.graph.neighbors(state))\n",
    "\n",
    "        for neighbor in valid_neighbors:\n",
    "            if visit_arr[neighbor] != VISITED:\n",
    "                dead_end = False\n",
    "\n",
    "        if dead_end:\n",
    "            total_penalties += 1\n",
    "            done = True\n",
    "        \n",
    "        else:\n",
    "            action = np.argmax(q_table[state])\n",
    "            state = action\n",
    "        \n",
    "        if state == env.dst:\n",
    "            done = True\n",
    "        \n",
    "    if env.is_corrupted(path):\n",
    "        total_penalties += 1\n",
    "    \n",
    "    total_hops += hops\n",
    "    \n",
    "print(f\"Results after {episodes} episodes:\")\n",
    "print(f\"Average hops per episode: {total_hops / episodes}\")\n",
    "print(f\"Average penalties per episode: {total_penalties / episodes}\")"
   ]
  }
 ],
 "metadata": {
  "kernelspec": {
   "display_name": "Python 3",
   "language": "python",
   "name": "python3"
  },
  "language_info": {
   "codemirror_mode": {
    "name": "ipython",
    "version": 3
   },
   "file_extension": ".py",
   "mimetype": "text/x-python",
   "name": "python",
   "nbconvert_exporter": "python",
   "pygments_lexer": "ipython3",
   "version": "3.8.3"
  }
 },
 "nbformat": 4,
 "nbformat_minor": 4
}
