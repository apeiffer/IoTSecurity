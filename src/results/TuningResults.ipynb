{
 "cells": [
  {
   "cell_type": "code",
   "execution_count": 1,
   "id": "2b256f70",
   "metadata": {},
   "outputs": [],
   "source": [
    "import csv\n",
    "import matplotlib.pyplot as plt"
   ]
  },
  {
   "cell_type": "code",
   "execution_count": 2,
   "id": "ee3aeedf",
   "metadata": {},
   "outputs": [],
   "source": [
    "rho_de = []\n",
    "rho_cp = []\n",
    "\n",
    "alpha = []\n",
    "gamma = []\n",
    "epsilon = []\n",
    "\n",
    "acc = []\n",
    "prec = []\n",
    "rec = []"
   ]
  },
  {
   "cell_type": "code",
   "execution_count": 3,
   "id": "d532b3ac",
   "metadata": {},
   "outputs": [],
   "source": [
    "with open('tuning_results.txt', newline='') as csvfile:\n",
    "    reader = csv.reader(csvfile, delimiter=',')\n",
    "    next(reader)\n",
    "    \n",
    "    rows = [[int(row[0]), int(row[1]), float(row[2]), float(row[3]), \n",
    "             float(row[4]), float(row[5]), float(row[6]), float(row[7])] for row in reader if row]\n",
    "    \n",
    "    for row in rows:\n",
    "        rho_de.append(row[0])\n",
    "        rho_cp.append(row[1])\n",
    "        alpha.append(row[2])\n",
    "        gamma.append(row[3])\n",
    "        epsilon.append(row[4])\n",
    "        acc.append(row[5])\n",
    "        prec.append(row[6])\n",
    "        rec.append(row[7])"
   ]
  },
  {
   "cell_type": "code",
   "execution_count": 4,
   "id": "d213dc34",
   "metadata": {},
   "outputs": [
    {
     "data": {
      "text/plain": [
       "<matplotlib.collections.PathCollection at 0x2aff179ff40>"
      ]
     },
     "execution_count": 4,
     "metadata": {},
     "output_type": "execute_result"
    },
    {
     "data": {
      "image/png": "[encoded data removed]",
      "text/plain": [
       "<Figure size 432x288 with 1 Axes>"
      ]
     },
     "metadata": {
      "needs_background": "light"
     },
     "output_type": "display_data"
    }
   ],
   "source": [
    "plt.scatter(rho_de, acc)"
   ]
  }
 ],
 "metadata": {
  "kernelspec": {
   "display_name": "Python 3 (ipykernel)",
   "language": "python",
   "name": "python3"
  },
  "language_info": {
   "codemirror_mode": {
    "name": "ipython",
    "version": 3
   },
   "file_extension": ".py",
   "mimetype": "text/x-python",
   "name": "python",
   "nbconvert_exporter": "python",
   "pygments_lexer": "ipython3",
   "version": "3.9.12"
  }
 },
 "nbformat": 4,
 "nbformat_minor": 5
}
