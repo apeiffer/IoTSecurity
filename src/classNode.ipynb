{
 "cells": [
  {
   "cell_type": "code",
   "execution_count": 1,
   "metadata": {},
   "outputs": [],
   "source": [
    "import random\n",
    "import time\n",
    "import threading"
   ]
  },
  {
   "cell_type": "code",
   "execution_count": 2,
   "metadata": {},
   "outputs": [],
   "source": [
    "MAX_HEIGHT = 36000 # in km\n",
    "MAX_X = 100000\n",
    "MAX_Y = 100000"
   ]
  },
  {
   "cell_type": "code",
   "execution_count": 3,
   "metadata": {},
   "outputs": [],
   "source": [
    "class node:\n",
    "    \n",
    "    \n",
    "    number_of_nodes = 0\n",
    "                \n",
    "    def __init__(self,if_agent = False, x = None, y = None, z = None):\n",
    "        \n",
    "        self.node_id = node.number_of_nodes\n",
    "        node.number_of_nodes += 1      \n",
    "        self.if_agent = if_agent\n",
    "        self.x = round(random.uniform(0, MAX_X),2) if x == None else x\n",
    "        self.y = round(random.uniform(0, MAX_Y),2) if y == None else y\n",
    "        self.z = self.rand_height() if z == None else z\n",
    "        self.attack_probs = 0\n",
    "        self.get_node_type()\n",
    "        \n",
    "        #Make the node constantly moving:\n",
    "        if self.type != \"Terrestrial\":\n",
    "            if self.type == \"Airborne\":\n",
    "                self.MIN_Z = 0.1\n",
    "                self.MAX_Z = 160\n",
    "            elif self.type == \"Space\":\n",
    "                self.MIN_Z = 161\n",
    "                self.MAX_Z = MAX_HEIGHT\n",
    "            def moving():\n",
    "                while True:\n",
    "                    xMove = random.choice([-50, -30, -20, 10, 0, 10, 20, 30, 50])\n",
    "                    yMove = random.choice([-50, -30, -20, 10, 0, 10, 20, 30, 50])\n",
    "                    zMove = random.choice([-50, -30, -20, 10, 0, 10, 20, 30, 50])\n",
    "                    if (self.x + xMove) >= 0 and (self.x + xMove) <= MAX_X: \n",
    "                        self.x = round(self.x+xMove, 2)\n",
    "                    if (self.y + yMove) >= 0 and (self.y + yMove) <= MAX_Y: \n",
    "                        self.y = round(self.y+yMove, 2)\n",
    "                    if (self.z + zMove) >= self.MIN_Z and (self.z + zMove) <= self.MAX_Z: \n",
    "                        self.z = round(self.z+zMove, 2)\n",
    "                    time.sleep(0.5)\n",
    "            t = threading.Thread(target=moving) # start a child thread\n",
    "            t.daemon = True\n",
    "            t.start()\n",
    "        \n",
    "        \n",
    "    def set_agent(self, if_agent):\n",
    "        self.if_agent = if_agent\n",
    "    \n",
    "    def get_node_type(self):\n",
    "        if self.z == 0:\n",
    "            self.type = \"Terrestrial\"\n",
    "        elif self.z <= 160:\n",
    "            self.type = \"Airborne\"\n",
    "        else:\n",
    "            self.type = \"Space\"\n",
    "    \n",
    "    def rand_height(self):\n",
    "        base_heights = [0, 0.1, 160]\n",
    "        base_height = random.choice(base_heights)\n",
    "        if base_height == 0.1:\n",
    "            z = base_height + round(random.uniform(0,159.9),2)\n",
    "        elif base_height == 160:\n",
    "            z = base_height + round(random.uniform(0,MAX_HEIGHT-160),2)\n",
    "        else:\n",
    "            z = base_height\n",
    "        return z"
   ]
  },
  {
   "cell_type": "code",
   "execution_count": 4,
   "metadata": {},
   "outputs": [
    {
     "name": "stdout",
     "output_type": "stream",
     "text": [
      "Current number of nodes: 1\n",
      "Current number of nodes: 2\n",
      "Current number of nodes: 3\n",
      "Current number of nodes: 4\n",
      "Current number of nodes: 5\n"
     ]
    }
   ],
   "source": [
    "nodes1 = []\n",
    "for i in range(0,5):\n",
    "    n1 = node()\n",
    "    nodes1.append(n1)\n",
    "    print(\"Current number of nodes:\", node.number_of_nodes)"
   ]
  },
  {
   "cell_type": "code",
   "execution_count": 5,
   "metadata": {},
   "outputs": [
    {
     "name": "stdout",
     "output_type": "stream",
     "text": [
      "Node ID: 0\n",
      "Type: Space\n",
      "x = 66683.88 km\n",
      "y = 18177.91 km\n",
      "z = 14514.88 km\n",
      "\n",
      "Node ID: 1\n",
      "Type: Airborne\n",
      "x = 3649.57 km\n",
      "y = 49425.53 km\n",
      "z = 30.89 km\n",
      "\n",
      "Node ID: 2\n",
      "Type: Airborne\n",
      "x = 24073.54 km\n",
      "y = 81748.49 km\n",
      "z = 35.49 km\n",
      "\n",
      "Node ID: 3\n",
      "Type: Terrestrial\n",
      "x = 60699.71 km\n",
      "y = 68738.52 km\n",
      "z = 0 km\n",
      "\n",
      "Node ID: 4\n",
      "Type: Terrestrial\n",
      "x = 59361.89 km\n",
      "y = 1260.04 km\n",
      "z = 0 km\n",
      "\n"
     ]
    }
   ],
   "source": [
    "for i in range(0,5):  \n",
    "    print(\"Node ID:\", nodes1[i].node_id)\n",
    "    print(\"Type:\", nodes1[i].type)\n",
    "    print(\"x =\",nodes1[i].x,\"km\")\n",
    "    print(\"y =\",nodes1[i].y,\"km\")\n",
    "    print(\"z =\",nodes1[i].z,\"km\\n\")"
   ]
  },
  {
   "cell_type": "code",
   "execution_count": null,
   "metadata": {},
   "outputs": [],
   "source": []
  }
 ],
 "metadata": {
  "kernelspec": {
   "display_name": "Python 3",
   "language": "python",
   "name": "python3"
  },
  "language_info": {
   "codemirror_mode": {
    "name": "ipython",
    "version": 3
   },
   "file_extension": ".py",
   "mimetype": "text/x-python",
   "name": "python",
   "nbconvert_exporter": "python",
   "pygments_lexer": "ipython3",
   "version": "3.6.5"
  }
 },
 "nbformat": 4,
 "nbformat_minor": 2
}
