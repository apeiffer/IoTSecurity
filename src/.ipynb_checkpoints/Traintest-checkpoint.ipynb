{
 "cells": [
  {
   "cell_type": "markdown",
   "metadata": {},
   "source": [
    "**Note:** If you get any errors due to packages not being installed, please add them to the cell below. "
   ]
  },
  {
   "cell_type": "code",
   "execution_count": 1,
   "metadata": {},
   "outputs": [],
   "source": [
    "#!pip3 install gym\n",
    "\n",
    "import gym\n",
    "import math\n",
    "import random\n",
    "import numpy as np\n",
    "import pandas as pd\n",
    "import networkx as nx\n",
    "import matplotlib.pyplot as plt\n",
    "\n",
    "from sklearn.cluster import KMeans\n",
    "from sklearn.metrics import confusion_matrix, recall_score, precision_score, accuracy_score\n",
    "\n",
    "from IoTgraph import IoTgraph"
   ]
  },
  {
   "cell_type": "markdown",
   "metadata": {},
   "source": [
    "## 1. Training"
   ]
  },
  {
   "cell_type": "code",
   "execution_count": 6,
   "metadata": {},
   "outputs": [],
   "source": [
    "# Classification labels\n",
    "NOT_MAL = 0\n",
    "MAL = 1\n",
    "DEAD_END = 2\n",
    "\n",
    "# Controls some print statements for debugging\n",
    "verbose = False"
   ]
  },
  {
   "cell_type": "markdown",
   "metadata": {},
   "source": [
    "Create and render an instance of the `IoTgraph` class. \n",
    "\n",
    "Reminder on convention:\n",
    "* `env.src` = Node 0\n",
    "* `env.dst` = Highest numbered node"
   ]
  },
  {
   "cell_type": "code",
   "execution_count": 5,
   "metadata": {},
   "outputs": [
    {
     "data": {
      "image/png": "[encoded data removed]",
      "text/plain": [
       "<Figure size 432x288 with 1 Axes>"
      ]
     },
     "metadata": {},
     "output_type": "display_data"
    }
   ],
   "source": [
    "#env = IoTgraph(network_size=50, edge_prob=0.1, percent_mal=0.3, attack_probs=[0.2, 0.8])\n",
    "env = IoTgraph('./env/env1.txt')\n",
    "\n",
    "env.render()"
   ]
  },
  {
   "cell_type": "markdown",
   "metadata": {},
   "source": [
    "Create lists of the intermediate nodes and their true labels."
   ]
  },
  {
   "cell_type": "code",
   "execution_count": 11,
   "metadata": {},
   "outputs": [
    {
     "name": "stdout",
     "output_type": "stream",
     "text": [
      "[1, 2, 3, 4, 5, 6, 7, 8]\n",
      "[0, 0, 1, 0, 1, 0, 0, 0]\n"
     ]
    }
   ],
   "source": [
    "int_nodes = list(range(1, env.dst))\n",
    "labels_real = []\n",
    "\n",
    "for a in env.devices:\n",
    "    if a.node == env.src or a.node == env.dst:\n",
    "        continue\n",
    "    \n",
    "    if a.mal:\n",
    "        labels_real.append(MAL)\n",
    "        \n",
    "        if verbose:\n",
    "            print(f'Node {a.node} IS malicious. Attack probability is {a.attack_prob:.2f}.')\n",
    "    else:\n",
    "        labels_real.append(NOT_MAL)\n",
    "        \n",
    "        if verbose:\n",
    "            print(f'Node {a.node} is NOT malicious.')\n",
    "            \n",
    "print(int_nodes)\n",
    "print(labels_real)"
   ]
  },
  {
   "cell_type": "markdown",
   "metadata": {},
   "source": [
    "Some hyperparameters we introduce when we move to a RL environment:\n",
    "* `corrupted_path_penalty` refers to the penalty our algorithm incurs when it takes a path that is corrupted. Setting this value is a choice; in this cell, we have made it equal to `env.network_size`, which means that a corrupted path is as bad or worse than the longest path in the network.\n",
    "* `dead_end_penalty` refers to the penalty our algorithm incurs when it encounters a dead-end node. We don't need to consider this node for future pathfinding, so we put a high penalty on it. When we encounter a dead-end node, we don't ever want to visit it again. For this reason, we need to make the `dead_end_penalty` higher than any total penalty that could be incurred along a single path (since our Q-table keeps track of the **average** penalty for each node). The highest penalty would be a corrupted path that uses every single node in the network (`env.network_size + corrupted_path_penalty`). We multiply this by 2 just so the dead end nodes stand out more in the Q-table.\n",
    "* `training_iterations` refers to the number of times we will try to find a path from the source to the destination. Too few iterations will lead to underfitting; too many will lead to overfitting.\n",
    "\n",
    "The other hyperparameters are used for the Q-learning algorithm (definitions used from the [RL tutorial source](https://www.learndatasci.com/tutorials/reinforcement-q-learning-scratch-python-openai-gym/)):\n",
    "* `alpha` is the learning rate (0 < $\\alpha$ <= 1). This captures the extent to which the Q-values are updated from one training iteration.\n",
    "* `gamma` is the discount factor (0 < $\\gamma$ <= 1). $\\gamma$ determines how much importance we want to give to future rewards. A lower $\\gamma$ makes our algorithm consider immediate rewards more, while a higher $\\gamma$ captures a long-term effective reward.\n",
    "* `epsilon` is the degree (0 < $\\epsilon$ <= 1) to which we want to explore the action space (i.e. pick a random value) or exploit our learned Q-values. A lower $\\epsilon$ will result in more penalties during training because we are more often picking new, unexplored paths. A higher $\\epsilon$ will result in fewer penalties during training but may lead to overfitting."
   ]
  },
  {
   "cell_type": "code",
   "execution_count": 13,
   "metadata": {},
   "outputs": [],
   "source": [
    "training_iterations = 100000\n",
    "rho_cp = 10 * env.network_size\n",
    "rho_de = 2 * env.network_size\n",
    "\n",
    "alpha = 0.1\n",
    "gamma = 0.6\n",
    "epsilon = 0.1"
   ]
  },
  {
   "cell_type": "markdown",
   "metadata": {},
   "source": [
    "Initialize the Q table. Additionally, go through and find all of the nodes that don't connect to each other. Set these to -$\\infty$, so we do not select these actions when training. Since our algorithm does not find cyclic paths (using the same node twice) and always ends when it reaches the destination, we will also set any pairs ending in the source or beginning with the destination to -infinity. The algorithm will never touch these values anyway, but it makes for a more clear Q-table."
   ]
  },
  {
   "cell_type": "code",
   "execution_count": 14,
   "metadata": {},
   "outputs": [
    {
     "name": "stdout",
     "output_type": "stream",
     "text": [
      "[[-inf -inf   0.   0.   0.   0.   0.   0.   0. -inf]\n",
      " [-inf -inf   0.   0. -inf   0. -inf -inf -inf   0.]\n",
      " [-inf   0. -inf -inf -inf -inf -inf -inf -inf -inf]\n",
      " [-inf   0. -inf -inf -inf -inf -inf -inf -inf -inf]\n",
      " [-inf -inf -inf -inf -inf -inf -inf -inf -inf -inf]\n",
      " [-inf   0. -inf -inf -inf -inf -inf -inf -inf -inf]\n",
      " [-inf -inf -inf -inf -inf -inf -inf -inf -inf -inf]\n",
      " [-inf -inf -inf -inf -inf -inf -inf -inf -inf -inf]\n",
      " [-inf -inf -inf -inf -inf -inf -inf -inf -inf -inf]\n",
      " [-inf -inf -inf -inf -inf -inf -inf -inf -inf -inf]]\n"
     ]
    }
   ],
   "source": [
    "q_table = np.zeros([env.num_states, env.num_actions])\n",
    "\n",
    "for state in range(0, len(q_table)):\n",
    "    possible_actions = list(range(0, len(q_table)))\n",
    "    \n",
    "    valid_neighbors = list(env.graph.neighbors(state))\n",
    "    \n",
    "    for action in possible_actions:\n",
    "        action = int(action)\n",
    "        if action not in valid_neighbors:\n",
    "            q_table[state][action] = -np.Inf\n",
    "       \n",
    "q_table[:, env.src] = -np.Inf\n",
    "q_table[env.dst, :] = -np.Inf\n",
    "            \n",
    "print(q_table)"
   ]
  },
  {
   "cell_type": "markdown",
   "metadata": {},
   "source": [
    "Train the algorithm. Some notes about this cell, because it is the most complicated cell in the notebook:\n",
    "* We are trying to find paths from the source to the destination, and we go one node at a time. Think of the current state as the node we are currently at. The possible actions we can choose from are the other nodes that we can visit from this node (so, its neighbors). However, this is at odds with how we define the Q-table, where all actions are technically \"valid\" from each state. For this reason, we keep a `valid_neighbors` array to reference when we select an action. If a node is a dead end, it will have no valid neighbors and we can stop the training iteration. \n",
    "* When we are finding paths from the source to the destination, we don't want to visit the same node twice (this is called a cycle and can easily lead to infinite loops). We use the `VISITED` flag and `visit_arr` to mark whether we've visited a node in the current pathfinding iteration. This also helps us when we look at the `valid_neighbors` of a node. "
   ]
  },
  {
   "cell_type": "code",
   "execution_count": 16,
   "metadata": {},
   "outputs": [
    {
     "ename": "NameError",
     "evalue": "name 'total_changes' is not defined",
     "output_type": "error",
     "traceback": [
      "\u001b[1;31m---------------------------------------------------------------------------\u001b[0m",
      "\u001b[1;31mNameError\u001b[0m                                 Traceback (most recent call last)",
      "Input \u001b[1;32mIn [16]\u001b[0m, in \u001b[0;36m<cell line: 9>\u001b[1;34m()\u001b[0m\n\u001b[0;32m     74\u001b[0m     \u001b[38;5;28;01melse\u001b[39;00m:\n\u001b[0;32m     75\u001b[0m         q_table[prev_state, state] \u001b[38;5;241m=\u001b[39m \u001b[38;5;241m-\u001b[39mrho_de\n\u001b[1;32m---> 76\u001b[0m         total_changes \u001b[38;5;241m+\u001b[39m\u001b[38;5;241m=\u001b[39m rho_de\n\u001b[0;32m     77\u001b[0m         done \u001b[38;5;241m=\u001b[39m \u001b[38;5;28;01mTrue\u001b[39;00m\n\u001b[0;32m     80\u001b[0m \u001b[38;5;66;03m# Now, we've finally selected an action. \u001b[39;00m\n\u001b[0;32m     81\u001b[0m \u001b[38;5;66;03m# We can take the step and update the Q-table according to the algorithm.            \u001b[39;00m\n",
      "\u001b[1;31mNameError\u001b[0m: name 'total_changes' is not defined"
     ]
    }
   ],
   "source": [
    "VISITED = -1\n",
    "times_visited = np.zeros([env.num_states, env.num_actions])\n",
    "\n",
    "# For plotting metrics\n",
    "epoch_batch = []\n",
    "penalty_batch = []\n",
    "\n",
    "# Number of training iterations\n",
    "for i in range(1, training_iterations+1):\n",
    "    pct = (100 * i / training_iterations)\n",
    "    if pct % 1 == 0:\n",
    "        # print(f'{pct}%.')\n",
    "        epoch_batch.append(pct)\n",
    "        penalty_batch.append(total_changes)\n",
    "        total_changes = 0\n",
    "        \n",
    "    # total_changes = 0 # total penalties AND rewards for this iteration\n",
    "    total_penalty = 0\n",
    "    path = []\n",
    "    \n",
    "    state = env.src\n",
    "    prev_state = env.src # Use previous state to help keep track of dead ends\n",
    "    \n",
    "    done = False\n",
    "    \n",
    "    visit_arr = np.zeros(env.network_size)\n",
    "    \n",
    "    while not done:\n",
    "        path.append(state)\n",
    "        dead_end = True\n",
    "        visit_arr[state] = VISITED # Shows that we have visited a node\n",
    "        \n",
    "        valid_neighbors = list(env.graph.neighbors(state)) # These are the valid possible actions\n",
    "        \n",
    "        # Check to see if the node is a dead end (if there are any valid neighbors, they have been visited already)\n",
    "        for neighbor in valid_neighbors:\n",
    "            if visit_arr[neighbor] != VISITED:\n",
    "                dead_end = False\n",
    "        \n",
    "        # This node is a dead end, so we put a giant penalty on it so we don't go to it again in future iterations\n",
    "        if dead_end:\n",
    "            q_table[prev_state, state] = -rho_de\n",
    "            total_changes += rho_de\n",
    "            done = True\n",
    "\n",
    "        # The node is not a dead end, so we continue trying to find paths to the destination\n",
    "        else:  \n",
    "            # Explore the action space by picking a random action\n",
    "            if random.uniform(0, 1) < epsilon:\n",
    "                action = env.action_space.sample()\n",
    "                \n",
    "                # Make sure the action is valid by referencing the valid neighbors and visited arrays\n",
    "                while action not in valid_neighbors or visit_arr[action] == VISITED:\n",
    "                    action = env.action_space.sample()\n",
    "            \n",
    "            # Exploit learned values by selecting the best action from the current state based on our Q-table\n",
    "            else:\n",
    "                slc = q_table[state]\n",
    "                action = np.argmax(slc)               \n",
    "\n",
    "                # Make sure the action is valid by referencing the valid neighbors and visited arrays\n",
    "                valid_action_exists = False\n",
    "                \n",
    "                # Another way to check for dead ends (and avoid infinite loops)\n",
    "                for neighbor in valid_neighbors:\n",
    "                    if visit_arr[action] != VISITED:\n",
    "                        valid_action_exists = True\n",
    "                \n",
    "                if valid_action_exists:\n",
    "                    while action not in valid_neighbors or visit_arr[action] == VISITED:\n",
    "                        slc[action] = -np.Inf # Doing this helps prevent backtracking\n",
    "                        action = np.argmax(slc)\n",
    "                \n",
    "                else:\n",
    "                    q_table[prev_state, state] = -rho_de\n",
    "                    total_changes += rho_de\n",
    "                    done = True\n",
    "                    \n",
    "    \n",
    "            # Now, we've finally selected an action. \n",
    "            # We can take the step and update the Q-table according to the algorithm.            \n",
    "            next_state = action\n",
    "            prev_state = state\n",
    "            state = next_state\n",
    "\n",
    "            if state == env.dst:\n",
    "                path.append(state)\n",
    "                done = True\n",
    "                \n",
    "            total_penalty += 1\n",
    "    \n",
    "    # Print out the path we took.\n",
    "    # If we got to the destination, determine if that path was corrupted. Update the reward accordingly    \n",
    "    if dead_end == True:\n",
    "        print(f'Path taken = {path}. Encountered a dead end.')\n",
    "    else:               \n",
    "        if env.is_corrupted(path):\n",
    "            # The path is corrupted, but our algorithm doesn't know what node is the cause. \n",
    "            # So, we penalize all of the nodes. Over time, the nodes that are actually corrupted will be\n",
    "            # penalized more often than the nodes that aren't.\n",
    "            total_penalty += rho_cp\n",
    "            total_changes += rho_cp\n",
    "            #print(f'Path taken = {path}. This path was corrupted.')\n",
    "            \n",
    "        #print(f'Path taken = {path}.')\n",
    "        \n",
    "        # The path[0:len(path)-2] is a way of not penalizing the links that end in the destination node.\n",
    "        # We want to update the Q table, but we want to keep it normalized relative to the dead end penalty.\n",
    "        # So, we keep track of how many times we've encountered a (state, action) pair and keep track of the\n",
    "        # average penalty incurred when going that way.\n",
    "        for state in path[0:len(path)-2]:\n",
    "            action = path[path.index(state)+1]\n",
    "            visits = times_visited[state, action]\n",
    "            if visits == 0:\n",
    "                q_table[state, action] -= total_penalty\n",
    "                \n",
    "            else:\n",
    "                avg_penalty = (q_table[state, action] * visits - total_penalty) / (visits + 1)\n",
    "                q_table[state, action] = avg_penalty\n",
    "                \n",
    "            times_visited[state, action] += 1"
   ]
  },
  {
   "cell_type": "markdown",
   "metadata": {},
   "source": [
    "## 3. Results and Analysis\n",
    "Now that the training is finished, we can print out the Q table and try to visually confirm that our algorithm has learned the optimal paths. The rows represent the current state, and the columns represent the possible actions from that state. \n",
    "\n",
    "For each node, we would like to understand how 'trustworthy' it is when finding paths from the source to the destination. Each column reflects all of the paths that can involve an individual node. Even if a node is not malicious, it will be punished when it is involved in a corrupted or dead end path. Therefore, we compute the trustworthiness of each node by taking the maximum of each column of the Q table."
   ]
  },
  {
   "cell_type": "code",
   "execution_count": 21,
   "metadata": {},
   "outputs": [
    {
     "name": "stdout",
     "output_type": "stream",
     "text": [
      "Corrupted path penalty is 500.\n",
      "Dead end penalty is 100.\n",
      "\n",
      "\n",
      "     0           1           2           3           4           5   \\\n",
      "0  -inf        -inf        -inf        -inf        -inf        -inf   \n",
      "1  -inf        -inf        -inf        -inf        -inf        -inf   \n",
      "2  -inf        -inf        -inf        -inf        -inf        -inf   \n",
      "3  -inf        -inf        -inf        -inf        -inf        -inf   \n",
      "4  -inf        -inf        -inf        -inf        -inf        -inf   \n",
      "5  -inf        -inf        -inf        -inf        -inf        -inf   \n",
      "6  -inf        -inf        -inf        -inf        -inf        -inf   \n",
      "7  -inf        -inf  -19.168732 -100.000000        -inf        -inf   \n",
      "8  -inf        -inf        -inf        -inf        -inf        -inf   \n",
      "9  -inf        -inf        -inf        -inf -119.422535        -inf   \n",
      "10 -inf        -inf        -inf        -inf        -inf        -inf   \n",
      "11 -inf        -inf        -inf  -19.671788        -inf -334.231884   \n",
      "12 -inf        -inf -331.200000        -inf        -inf        -inf   \n",
      "13 -inf        -inf        -inf        -inf        -inf        -inf   \n",
      "14 -inf        -inf        -inf        -inf        -inf        -inf   \n",
      "15 -inf        -inf        -inf        -inf        -inf        -inf   \n",
      "16 -inf        -inf        -inf        -inf        -inf        -inf   \n",
      "17 -inf        -inf        -inf        -inf        -inf        -inf   \n",
      "18 -inf        -inf        -inf        -inf        -inf        -inf   \n",
      "19 -inf        -inf        -inf        -inf        -inf        -inf   \n",
      "20 -inf        -inf        -inf        -inf  -96.653846 -361.075000   \n",
      "21 -inf        -inf  -12.040227        -inf        -inf        -inf   \n",
      "22 -inf        -inf        -inf        -inf        -inf        -inf   \n",
      "23 -inf        -inf        -inf        -inf        -inf        -inf   \n",
      "24 -inf        -inf        -inf        -inf        -inf        -inf   \n",
      "25 -inf        -inf        -inf        -inf -106.406250        -inf   \n",
      "26 -inf        -inf        -inf        -inf -511.250000        -inf   \n",
      "27 -inf        -inf        -inf        -inf        -inf        -inf   \n",
      "28 -inf -243.000000        -inf        -inf        -inf        -inf   \n",
      "29 -inf        -inf        -inf        -inf        -inf        -inf   \n",
      "30 -inf -151.250000        -inf        -inf        -inf -410.133333   \n",
      "31 -inf        -inf        -inf        -inf        -inf        -inf   \n",
      "32 -inf        -inf        -inf        -inf        -inf        -inf   \n",
      "33 -inf        -inf        -inf        -inf        -inf        -inf   \n",
      "34 -inf        -inf        -inf        -inf -261.166667        -inf   \n",
      "35 -inf        -inf        -inf        -inf        -inf -311.300000   \n",
      "36 -inf        -inf        -inf        -inf        -inf        -inf   \n",
      "37 -inf        -inf        -inf        -inf -100.000000        -inf   \n",
      "38 -inf        -inf        -inf        -inf        -inf        -inf   \n",
      "39 -inf        -inf        -inf        -inf        -inf        -inf   \n",
      "40 -inf        -inf  -21.244898        -inf        -inf        -inf   \n",
      "41 -inf        -inf        -inf        -inf -353.250000        -inf   \n",
      "42 -inf -190.658537        -inf        -inf        -inf        -inf   \n",
      "43 -inf        -inf        -inf        -inf        -inf        -inf   \n",
      "44 -inf        -inf        -inf        -inf  -98.898370        -inf   \n",
      "45 -inf        -inf        -inf        -inf -126.829268        -inf   \n",
      "46 -inf        -inf        -inf        -inf        -inf -100.000000   \n",
      "47 -inf        -inf        -inf        -inf        -inf        -inf   \n",
      "48 -inf -423.525000 -513.000000        -inf -396.358974        -inf   \n",
      "49 -inf        -inf        -inf        -inf        -inf        -inf   \n",
      "\n",
      "            6           7           8           9   ...         40  \\\n",
      "0         -inf        -inf        -inf        -inf  ...       -inf   \n",
      "1         -inf        -inf        -inf        -inf  ...       -inf   \n",
      "2         -inf -100.000000        -inf        -inf  ...  -6.125368   \n",
      "3         -inf  -89.875964        -inf        -inf  ...       -inf   \n",
      "4         -inf        -inf        -inf -120.512195  ...       -inf   \n",
      "5         -inf        -inf        -inf        -inf  ...       -inf   \n",
      "6         -inf        -inf        -inf        -inf  ...       -inf   \n",
      "7         -inf        -inf        -inf  -65.932331  ...       -inf   \n",
      "8         -inf        -inf        -inf -309.750000  ...       -inf   \n",
      "9         -inf -132.555556 -164.454545        -inf  ...       -inf   \n",
      "10        -inf        -inf -100.000000        -inf  ...       -inf   \n",
      "11        -inf        -inf        -inf        -inf  ...       -inf   \n",
      "12        -inf        -inf        -inf        -inf  ...       -inf   \n",
      "13        -inf        -inf        -inf        -inf  ...       -inf   \n",
      "14        -inf        -inf        -inf        -inf  ...       -inf   \n",
      "15        -inf        -inf        -inf        -inf  ...       -inf   \n",
      "16        -inf        -inf        -inf -129.323529  ...       -inf   \n",
      "17        -inf        -inf        -inf        -inf  ...       -inf   \n",
      "18        -inf        -inf        -inf        -inf  ...       -inf   \n",
      "19        -inf        -inf        -inf        -inf  ...       -inf   \n",
      "20        -inf        -inf        -inf -100.000000  ...       -inf   \n",
      "21        -inf        -inf        -inf        -inf  ...       -inf   \n",
      "22 -120.673077        -inf        -inf        -inf  ...       -inf   \n",
      "23        -inf        -inf        -inf        -inf  ...       -inf   \n",
      "24        -inf        -inf        -inf        -inf  ...       -inf   \n",
      "25        -inf  -99.727885        -inf        -inf  ...       -inf   \n",
      "26        -inf        -inf        -inf        -inf  ...       -inf   \n",
      "27        -inf        -inf        -inf        -inf  ...       -inf   \n",
      "28        -inf        -inf        -inf        -inf  ...       -inf   \n",
      "29 -100.000000        -inf        -inf        -inf  ...       -inf   \n",
      "30        -inf        -inf        -inf        -inf  ...       -inf   \n",
      "31        -inf        -inf        -inf        -inf  ...       -inf   \n",
      "32        -inf        -inf        -inf        -inf  ...       -inf   \n",
      "33        -inf        -inf        -inf        -inf  ... -15.157958   \n",
      "34 -125.062500        -inf        -inf        -inf  ...       -inf   \n",
      "35        -inf        -inf        -inf        -inf  ...       -inf   \n",
      "36        -inf        -inf        -inf        -inf  ...       -inf   \n",
      "37        -inf        -inf        -inf        -inf  ...       -inf   \n",
      "38        -inf        -inf        -inf        -inf  ...       -inf   \n",
      "39        -inf        -inf        -inf        -inf  ...       -inf   \n",
      "40        -inf        -inf        -inf        -inf  ...       -inf   \n",
      "41        -inf        -inf        -inf        -inf  ...       -inf   \n",
      "42        -inf        -inf        -inf        -inf  ...       -inf   \n",
      "43        -inf -100.000000        -inf        -inf  ...       -inf   \n",
      "44        -inf        -inf        -inf  -56.780822  ...       -inf   \n",
      "45        -inf        -inf        -inf        -inf  ...       -inf   \n",
      "46        -inf        -inf -511.750000 -262.750000  ...       -inf   \n",
      "47        -inf        -inf        -inf        -inf  ...       -inf   \n",
      "48        -inf        -inf        -inf        -inf  ...       -inf   \n",
      "49        -inf        -inf        -inf        -inf  ...       -inf   \n",
      "\n",
      "            41          42          43          44          45          46  \\\n",
      "0         -inf        -inf        -inf        -inf        -inf        -inf   \n",
      "1         -inf -206.333333        -inf        -inf        -inf        -inf   \n",
      "2         -inf        -inf        -inf        -inf        -inf        -inf   \n",
      "3         -inf        -inf        -inf        -inf        -inf        -inf   \n",
      "4  -292.148148        -inf        -inf -100.000000 -180.937500        -inf   \n",
      "5         -inf        -inf        -inf        -inf        -inf -100.000000   \n",
      "6         -inf        -inf        -inf        -inf        -inf        -inf   \n",
      "7         -inf        -inf -100.000000        -inf        -inf        -inf   \n",
      "8         -inf        -inf        -inf        -inf        -inf -414.850000   \n",
      "9         -inf        -inf        -inf -512.000000        -inf -419.545455   \n",
      "10        -inf        -inf        -inf        -inf        -inf        -inf   \n",
      "11        -inf        -inf        -inf -131.000000        -inf        -inf   \n",
      "12        -inf        -inf  -99.725933        -inf -245.660377        -inf   \n",
      "13 -185.098765        -inf        -inf        -inf        -inf        -inf   \n",
      "14 -100.000000        -inf        -inf        -inf        -inf        -inf   \n",
      "15        -inf        -inf        -inf        -inf        -inf        -inf   \n",
      "16 -177.666667        -inf        -inf        -inf        -inf        -inf   \n",
      "17        -inf        -inf        -inf -516.000000        -inf -509.000000   \n",
      "18        -inf -100.000000        -inf        -inf        -inf        -inf   \n",
      "19        -inf        -inf -279.076923        -inf        -inf        -inf   \n",
      "20        -inf        -inf        -inf        -inf        -inf        -inf   \n",
      "21        -inf        -inf        -inf  -42.192665        -inf        -inf   \n",
      "22        -inf        -inf        -inf        -inf        -inf        -inf   \n",
      "23        -inf        -inf        -inf        -inf        -inf        -inf   \n",
      "24        -inf        -inf        -inf        -inf        -inf        -inf   \n",
      "25        -inf        -inf        -inf        -inf        -inf        -inf   \n",
      "26        -inf        -inf        -inf        -inf        -inf        -inf   \n",
      "27        -inf        -inf        -inf    0.000000        -inf        -inf   \n",
      "28        -inf        -inf        -inf        -inf        -inf        -inf   \n",
      "29        -inf        -inf        -inf -264.000000 -183.866667        -inf   \n",
      "30        -inf        -inf        -inf        -inf -100.000000 -196.450000   \n",
      "31        -inf        -inf        -inf        -inf        -inf        -inf   \n",
      "32        -inf        -inf        -inf  -95.142857        -inf        -inf   \n",
      "33        -inf        -inf        -inf        -inf -129.157407        -inf   \n",
      "34        -inf        -inf        -inf        -inf        -inf        -inf   \n",
      "35        -inf        -inf        -inf        -inf        -inf        -inf   \n",
      "36        -inf        -inf        -inf        -inf        -inf        -inf   \n",
      "37        -inf        -inf -509.600000        -inf        -inf        -inf   \n",
      "38        -inf        -inf        -inf        -inf        -inf        -inf   \n",
      "39        -inf        -inf        -inf        -inf        -inf        -inf   \n",
      "40        -inf        -inf        -inf        -inf        -inf        -inf   \n",
      "41        -inf        -inf        -inf        -inf        -inf        -inf   \n",
      "42        -inf        -inf        -inf        -inf        -inf        -inf   \n",
      "43        -inf        -inf        -inf        -inf -145.403846        -inf   \n",
      "44        -inf        -inf        -inf        -inf        -inf        -inf   \n",
      "45        -inf        -inf -153.333333        -inf        -inf        -inf   \n",
      "46        -inf        -inf        -inf        -inf        -inf        -inf   \n",
      "47        -inf        -inf        -inf        -inf        -inf        -inf   \n",
      "48        -inf        -inf        -inf        -inf        -inf        -inf   \n",
      "49        -inf        -inf        -inf        -inf        -inf        -inf   \n",
      "\n",
      "            47          48   49  \n",
      "0         -inf        -inf -inf  \n",
      "1         -inf -466.777778 -inf  \n",
      "2         -inf -374.326581  0.0  \n",
      "3         -inf        -inf -inf  \n",
      "4         -inf -408.160000 -inf  \n",
      "5         -inf        -inf -inf  \n",
      "6         -inf        -inf -inf  \n",
      "7         -inf        -inf -inf  \n",
      "8         -inf        -inf -inf  \n",
      "9         -inf        -inf -inf  \n",
      "10 -195.651163        -inf -inf  \n",
      "11        -inf        -inf -inf  \n",
      "12        -inf -303.814815 -inf  \n",
      "13        -inf        -inf -inf  \n",
      "14        -inf        -inf -inf  \n",
      "15        -inf        -inf -inf  \n",
      "16 -100.000000        -inf -inf  \n",
      "17        -inf        -inf -inf  \n",
      "18        -inf        -inf -inf  \n",
      "19        -inf        -inf -inf  \n",
      "20        -inf -335.025000 -inf  \n",
      "21        -inf        -inf -inf  \n",
      "22        -inf        -inf -inf  \n",
      "23        -inf        -inf -inf  \n",
      "24        -inf        -inf -inf  \n",
      "25        -inf        -inf -inf  \n",
      "26        -inf        -inf -inf  \n",
      "27        -inf        -inf -inf  \n",
      "28        -inf        -inf -inf  \n",
      "29        -inf        -inf -inf  \n",
      "30        -inf        -inf -inf  \n",
      "31        -inf -100.000000 -inf  \n",
      "32 -218.333333        -inf -inf  \n",
      "33        -inf        -inf -inf  \n",
      "34        -inf        -inf -inf  \n",
      "35 -332.400000        -inf -inf  \n",
      "36        -inf        -inf -inf  \n",
      "37        -inf        -inf  0.0  \n",
      "38        -inf        -inf -inf  \n",
      "39        -inf        -inf -inf  \n",
      "40        -inf        -inf  0.0  \n",
      "41        -inf        -inf -inf  \n",
      "42        -inf        -inf -inf  \n",
      "43        -inf        -inf -inf  \n",
      "44        -inf        -inf -inf  \n",
      "45        -inf        -inf -inf  \n",
      "46        -inf        -inf -inf  \n",
      "47        -inf        -inf -inf  \n",
      "48        -inf        -inf -inf  \n",
      "49        -inf        -inf -inf  \n",
      "\n",
      "[50 rows x 50 columns]\n"
     ]
    }
   ],
   "source": [
    "# For reference when reading the Q table\n",
    "print(f'Corrupted path penalty is {corrupted_path_penalty}.')\n",
    "print(f'Dead end penalty is {dead_end_penalty}.')\n",
    "\n",
    "q_table_df = pd.DataFrame(q_table)\n",
    "\n",
    "print('\\n')\n",
    "print(q_table_df)"
   ]
  },
  {
   "cell_type": "markdown",
   "metadata": {},
   "source": [
    "We would also like to identify which of the intermediate nodes are malicious. To do this, we classify based on criteria derived from the Q-table:\n",
    "* The node is **not malicious** if its maximum column value is greater than `-dead_end_penalty`.\n",
    "* If the node's maximum value is equal to `-dead_end_penalty`:\n",
    "    1. **AND** all other finite values in the column are equal to `-dead_end_penalty`, it is a **dead end**. \n",
    "    2. **AND** there is a finite value in the column that is less than `dead_end_penalty`, it is **malicious**. \n",
    "    \n",
    "From there, we can ignore all nodes that are classified as dead ends, since they won't factor into our accuracy calculations."
   ]
  },
  {
   "cell_type": "code",
   "execution_count": 12,
   "metadata": {},
   "outputs": [
    {
     "ename": "NameError",
     "evalue": "name 'q_table_df' is not defined",
     "output_type": "error",
     "traceback": [
      "\u001b[1;31m---------------------------------------------------------------------------\u001b[0m",
      "\u001b[1;31mNameError\u001b[0m                                 Traceback (most recent call last)",
      "Input \u001b[1;32mIn [12]\u001b[0m, in \u001b[0;36m<cell line: 3>\u001b[1;34m()\u001b[0m\n\u001b[0;32m      1\u001b[0m labels_pred \u001b[38;5;241m=\u001b[39m []\n\u001b[1;32m----> 3\u001b[0m \u001b[38;5;28;01mfor\u001b[39;00m name, data \u001b[38;5;129;01min\u001b[39;00m \u001b[43mq_table_df\u001b[49m\u001b[38;5;241m.\u001b[39miteritems():\n\u001b[0;32m      4\u001b[0m     \u001b[38;5;28;01mif\u001b[39;00m name \u001b[38;5;241m==\u001b[39m env\u001b[38;5;241m.\u001b[39msrc \u001b[38;5;129;01mor\u001b[39;00m name \u001b[38;5;241m==\u001b[39m env\u001b[38;5;241m.\u001b[39mdst:\n\u001b[0;32m      5\u001b[0m         \u001b[38;5;28;01mcontinue\u001b[39;00m\n",
      "\u001b[1;31mNameError\u001b[0m: name 'q_table_df' is not defined"
     ]
    }
   ],
   "source": [
    "labels_pred = []\n",
    "\n",
    "for name, data in q_table_df.iteritems():\n",
    "    if name == env.src or name == env.dst:\n",
    "        continue\n",
    "\n",
    "    col_max = max(data.values)\n",
    "    append_one = False\n",
    "    \n",
    "    if col_max > -dead_end_penalty:\n",
    "        labels_pred.append(NOT_MAL)\n",
    "    \n",
    "    elif col_max == -dead_end_penalty:\n",
    "        for val in data.values:\n",
    "            if val > -np.inf and val < -dead_end_penalty:\n",
    "                append_one = True\n",
    "                break\n",
    "        \n",
    "        if append_one:\n",
    "            labels_pred.append(MAL)\n",
    "        else:\n",
    "            labels_pred.append(DEAD_END)\n",
    "        \n",
    "    else:\n",
    "        labels_pred.append(MAL)\n",
    "\n",
    "\n",
    "# Remove the nodes labeled as dead ends since we don't factor them \n",
    "X = []\n",
    "y_pred = []\n",
    "y_hat = []\n",
    "\n",
    "for x, y_p, y_h in zip(int_nodes, labels_pred, labels_real):\n",
    "    if y_p != DEAD_END:\n",
    "        X.append(x)\n",
    "        y_pred.append(y_p)\n",
    "        y_hat.append(y_h)\n",
    "        \n",
    "print(X)\n",
    "print(y_pred)\n",
    "print(y_hat)"
   ]
  },
  {
   "cell_type": "markdown",
   "metadata": {},
   "source": [
    "Now that we have classified each intermediate node and ignored the dead end nodes, we can compute the accuracy, precision, and recall of the classifications."
   ]
  },
  {
   "cell_type": "code",
   "execution_count": 23,
   "metadata": {
    "scrolled": true
   },
   "outputs": [
    {
     "name": "stdout",
     "output_type": "stream",
     "text": [
      "Accuracy: 0.78.\n",
      "Precision: 0.59.\n",
      "Recall: 0.93.\n",
      "[[23  9]\n",
      " [ 1 13]]\n"
     ]
    }
   ],
   "source": [
    "print(f'Accuracy: {accuracy_score(y_hat, y_pred):.2f}.')\n",
    "print(f'Precision: {precision_score(y_hat, y_pred):.2f}.')\n",
    "print(f'Recall: {recall_score(y_hat, y_pred):.2f}.')\n",
    "\n",
    "print(confusion_matrix(y_hat, y_pred))"
   ]
  },
  {
   "cell_type": "markdown",
   "metadata": {},
   "source": [
    "We can also show how the algorithm converges over the course of a simulation runs. This measures the total change in the Q-table for each iteration and is recorded at each percentile of the run (i.e., when 1% of `training_iterations` have been run, 2%, and so on). The penalties are normalized since they are relative."
   ]
  },
  {
   "cell_type": "code",
   "execution_count": 36,
   "metadata": {},
   "outputs": [
    {
     "data": {
      "image/png": "[encoded data removed]",
      "text/plain": [
       "<Figure size 432x288 with 1 Axes>"
      ]
     },
     "metadata": {
      "needs_background": "light"
     },
     "output_type": "display_data"
    }
   ],
   "source": [
    "penalty_batch = [x / max(penalty_batch) for x in penalty_batch]\n",
    "plt.scatter(epoch_batch, penalty_batch)\n",
    "plt.xlabel('Training batch')\n",
    "plt.ylabel('Relative penalty')\n",
    "plt.show()"
   ]
  }
 ],
 "metadata": {
  "kernelspec": {
   "display_name": "Python 3 (ipykernel)",
   "language": "python",
   "name": "python3"
  },
  "language_info": {
   "codemirror_mode": {
    "name": "ipython",
    "version": 3
   },
   "file_extension": ".py",
   "mimetype": "text/x-python",
   "name": "python",
   "nbconvert_exporter": "python",
   "pygments_lexer": "ipython3",
   "version": "3.9.12"
  }
 },
 "nbformat": 4,
 "nbformat_minor": 4
}
